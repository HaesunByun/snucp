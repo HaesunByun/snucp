{
  "nbformat": 4,
  "nbformat_minor": 0,
  "metadata": {
    "colab": {
      "provenance": [],
      "toc_visible": true,
      "include_colab_link": true
    },
    "kernelspec": {
      "name": "python3",
      "display_name": "Python 3"
    },
    "language_info": {
      "name": "python"
    }
  },
  "cells": [
    {
      "cell_type": "markdown",
      "metadata": {
        "id": "view-in-github",
        "colab_type": "text"
      },
      "source": [
        "<a href=\"https://colab.research.google.com/github/HaesunByun/BasicComputing/blob/main/%5B%EC%9D%B4%EB%A1%A0%EC%86%8C%EC%8A%A4%EC%BD%94%EB%93%9C%5D%EC%BB%B4%EA%B8%B0%EC%B4%88_Lecture_4.ipynb\" target=\"_parent\"><img src=\"https://colab.research.google.com/assets/colab-badge.svg\" alt=\"Open In Colab\"/></a>"
      ]
    },
    {
      "cell_type": "markdown",
      "source": [
        "# L0444.000400 컴퓨팅 기초: 처음 만나는 컴퓨팅\n",
        "\n",
        "## Lecture 4. 반복문 while, for\n",
        "### 변해선"
      ],
      "metadata": {
        "id": "tnggpWyuaaAw"
      }
    },
    {
      "cell_type": "markdown",
      "source": [
        "## While loop\n",
        "### break, continue statements\n",
        "### Logical operators: and, or, not"
      ],
      "metadata": {
        "id": "gjDyuhysF8Dz"
      }
    },
    {
      "cell_type": "markdown",
      "metadata": {
        "id": "R-QEcq4PiMDr"
      },
      "source": [
        "### 1 while loop\n",
        "### break, continue statements\n",
        "```\n",
        "변수 = 초기값\n",
        "while 변수 < 끝 값:\n",
        "    true_statements\n",
        "    변수 증감\n",
        "next_statements\n",
        "```\n",
        "\n"
      ]
    },
    {
      "cell_type": "code",
      "metadata": {
        "id": "dJlqJNKrrV4Z"
      },
      "source": [
        "# while 조건\n",
        "count = 1\n",
        "while count <= 5:\n",
        "    print(f'재미있는 파이썬:{count}')\n",
        "    count=count+1    \n",
        "print(f'count={count}')"
      ],
      "execution_count": null,
      "outputs": []
    },
    {
      "cell_type": "code",
      "source": [
        "# \"배워보자 파이썬\" 10번 출력해보세요."
      ],
      "metadata": {
        "id": "LISxyjgCk6rw"
      },
      "execution_count": null,
      "outputs": []
    },
    {
      "cell_type": "code",
      "source": [
        "# 나무를 1번 찍었습니다.\n",
        "# 나무를 2번 찍었습니다.\n",
        "# 나무를 3번 찍었습니다.\n",
        "# 나무를 4번 찍었습니다.\n",
        "# 나무를 5번 찍었습니다.\n",
        "# 나무를 6번 찍었습니다.\n",
        "# 나무를 7번 찍었습니다.\n",
        "# 나무를 8번 찍었습니다.\n",
        "# 나무를 9번 찍었습니다.\n",
        "# 나무를 10번 찍었습니다.\n",
        "# 넘어가즈아~~~\n",
        "\n"
      ],
      "metadata": {
        "colab": {
          "base_uri": "https://localhost:8080/"
        },
        "id": "uW_kX4R__8yF",
        "outputId": "b4b9e884-fd1f-49ae-98d0-fb2b1bce7ed2"
      },
      "execution_count": null,
      "outputs": [
        {
          "output_type": "stream",
          "name": "stdout",
          "text": [
            "나무를 1번 찍었습니다.\n",
            "나무를 2번 찍었습니다.\n",
            "나무를 3번 찍었습니다.\n",
            "나무를 4번 찍었습니다.\n",
            "나무를 5번 찍었습니다.\n",
            "나무를 6번 찍었습니다.\n",
            "나무를 7번 찍었습니다.\n",
            "나무를 8번 찍었습니다.\n",
            "나무를 9번 찍었습니다.\n",
            "나무를 10번 찍었습니다.\n",
            "넘어가즈아~~~\n"
          ]
        }
      ]
    },
    {
      "cell_type": "code",
      "metadata": {
        "id": "9zhzDyMFWG_Z"
      },
      "source": [
        "# while True\n",
        "count = 0\n",
        "while True :\n",
        "    print(f'재미있는 파이썬:{count}')\n",
        "    count = count + 1\n",
        "    if count == 5:\n",
        "       break\n",
        "print(f'count={count}')"
      ],
      "execution_count": null,
      "outputs": []
    },
    {
      "cell_type": "markdown",
      "source": [
        "#### Guess the number #4"
      ],
      "metadata": {
        "id": "f1dber2duDjY"
      }
    },
    {
      "cell_type": "code",
      "source": [
        "# TODO: while문을 이용하여 guess하여 number를 맞히지 못했을 때는 입력 기회를 계속 주도록 수정해보세요. \n",
        "# 맞혔을 때에는 반복문을 빠져나온 후 I'm happy를 출력해주세요.\n",
        "\n",
        "# This is a guess the number game.\n",
        "import random\n",
        "myName = input('Hello! What is your name?')\n",
        "number = random.randint(1,20)\n",
        "print ( 'Well, ' + myName + ', I am thinking of a number between 1 and 20.')\n",
        "print ( 'Take a guess.')\n",
        "\n",
        "guess = int(input())\n",
        "\n",
        "if guess> number:\n",
        "    print('your guess is too high')\n",
        "elif guess < number:\n",
        "    print('your guess is too  low')\n",
        "else:\n",
        "    print ( 'Good job, ' + myName + '! You guessed my number!')\n"
      ],
      "metadata": {
        "id": "A77xND1-uCLg"
      },
      "execution_count": null,
      "outputs": []
    },
    {
      "cell_type": "markdown",
      "source": [
        "### 2 while ~ else"
      ],
      "metadata": {
        "id": "uHUfHBw8pPpB"
      }
    },
    {
      "cell_type": "code",
      "metadata": {
        "id": "60LzlhG-ibH0"
      },
      "source": [
        "# while ~ else\n",
        "count = 0\n",
        "while count < 5 :\n",
        "    pw=input('password')\n",
        "    if pw=='pythonisfun':\n",
        "       print('로그인 되었습니다.')\n",
        "       break\n",
        "    count = count + 1    \n",
        "else:\n",
        "    print ('로그인에 실패했습니다.')"
      ],
      "execution_count": null,
      "outputs": []
    },
    {
      "cell_type": "markdown",
      "source": [
        "#### Guess the number #5"
      ],
      "metadata": {
        "id": "q4fQRcPI0-kz"
      }
    },
    {
      "cell_type": "code",
      "source": [
        "# TODO: Guess the number #4에서 수정한 코드를 복사하여 붙여넣은 후 수정해주세요.\n",
        "# guess할 기회를 5번만 주고 5번안에 맞히지 못하면 반복문을 빠져나와 \n",
        "# \"oops! The number I was thinking of was {number}.\" 와 같이 메시지를 출력해주세요.\n",
        "# 단 5번 이내에 number를 맞혔다면 즉시 반복문을 빠져나오도록 해야 합니다.\n",
        "# while ~ else 문을 사용해보세요.\n",
        "\n"
      ],
      "metadata": {
        "id": "bkomD9n8085g"
      },
      "execution_count": null,
      "outputs": []
    },
    {
      "cell_type": "markdown",
      "source": [
        "### 3 continue"
      ],
      "metadata": {
        "id": "8MiX1cgkpq0D"
      }
    },
    {
      "cell_type": "code",
      "metadata": {
        "id": "Rip5ekUlsQbA"
      },
      "source": [
        "# continue\n",
        "i = 0\n",
        "while i < 6:\n",
        "    i += 1\n",
        "    if i==3 or i==4:\n",
        "        continue\n",
        "    print(i)"
      ],
      "execution_count": null,
      "outputs": []
    },
    {
      "cell_type": "markdown",
      "source": [
        "## for loop\n",
        "### for statements\n",
        "### for~else"
      ],
      "metadata": {
        "id": "CAetDoSN3lWf"
      }
    },
    {
      "cell_type": "markdown",
      "metadata": {
        "id": "4uTDclnTiMOE"
      },
      "source": [
        "### 1.for loop\n",
        "```\n",
        "for 변수 in 범위(반복가능한 것들):\n",
        "    statements\n",
        "next_statements\n",
        "```\n",
        "\n"
      ]
    },
    {
      "cell_type": "code",
      "source": [
        "#for문을 사용할때 유용하게 사용할수 있도록 range()를 사용\n",
        "#range(start, stop, step)\n",
        "range(1, 10)  # 1~9\n",
        "range(10)   # 0~9\n",
        "range(3, 10, 3) # 3부터 9까지 3씩 증가"
      ],
      "metadata": {
        "id": "yHdbUTX-bzC6"
      },
      "execution_count": null,
      "outputs": []
    },
    {
      "cell_type": "code",
      "metadata": {
        "id": "5A9dY-DTxZj5"
      },
      "source": [
        "for count  in range(1, 11):\n",
        "    print(f'나무를 {count}번 찍었습니다.')\n",
        "print ('넘어가즈아~~~')"
      ],
      "execution_count": null,
      "outputs": []
    },
    {
      "cell_type": "markdown",
      "source": [
        "# 아래와 같이 나오도록 코딩해보세요.\n",
        "```\n",
        "나무를 1그루 심었습니다. 싹! \n",
        "나무를 2그루 심었습니다. 싹! 싹! \n",
        "나무를 3그루 심었습니다. 싹! 싹! 싹! \n",
        "나무를 4그루 심었습니다. 싹! 싹! 싹! 싹! \n",
        "나무를 5그루 심었습니다. 싹! 싹! 싹! 싹! 싹! \n",
        "나무를 6그루 심었습니다. 싹! 싹! 싹! 싹! 싹! 싹! \n",
        "나무를 7그루 심었습니다. 싹! 싹! 싹! 싹! 싹! 싹! 싹! \n",
        "나무를 8그루 심었습니다. 싹! 싹! 싹! 싹! 싹! 싹! 싹! 싹! \n",
        "나무를 9그루 심었습니다. 싹! 싹! 싹! 싹! 싹! 싹! 싹! 싹! 싹! \n",
        "나무를 10그루 심었습니다. 싹! 싹! 싹! 싹! 싹! 싹! 싹! 싹! 싹! 싹! \n",
        "넘어가즈아~~~\n",
        "```\n",
        "\n"
      ],
      "metadata": {
        "id": "M29rKZJyQO3k"
      }
    },
    {
      "cell_type": "code",
      "source": [
        "# 나무찍기\n"
      ],
      "metadata": {
        "id": "5sHNjWeGBiOR"
      },
      "execution_count": null,
      "outputs": []
    },
    {
      "cell_type": "code",
      "metadata": {
        "id": "C69aheWCxh3T"
      },
      "source": [
        "# for문을 이용하여 1부터 10까지 합 구하기\n",
        "sum=0\n",
        "for i in range(1,11): \n",
        "  sum = sum+i   # 1=0+1, 3=1+2, 6=3+3, 10=6+4.....\n",
        "  print(sum)\n",
        "\n",
        "print(\"The sum is\", sum)"
      ],
      "execution_count": null,
      "outputs": []
    },
    {
      "cell_type": "code",
      "metadata": {
        "id": "LUeG8F1d5YSH"
      },
      "source": [
        "stuff = ['programming', 'pasta', 'spam', 'play park']\n",
        "for thing in stuff:\n",
        "    print (f'I really like {thing}.')"
      ],
      "execution_count": null,
      "outputs": []
    },
    {
      "cell_type": "code",
      "metadata": {
        "id": "h1nqTkNO5pOW"
      },
      "source": [
        "for i in 'Hello World':\n",
        "    print (i)"
      ],
      "execution_count": null,
      "outputs": []
    },
    {
      "cell_type": "markdown",
      "source": [
        "#### example 구구단"
      ],
      "metadata": {
        "id": "bOJJw3st3PE_"
      }
    },
    {
      "cell_type": "code",
      "metadata": {
        "id": "_YW5L4w90XWo"
      },
      "source": [
        "# for문을 이용하여 구구단을 2단을 출력해보세요.\n",
        "\n"
      ],
      "execution_count": null,
      "outputs": []
    },
    {
      "cell_type": "markdown",
      "metadata": {
        "id": "aDrE2--6cC_S"
      },
      "source": [
        "### 2 for~else\n",
        "```\n",
        "for 변수 in 리스트(or 문자열 등) :\n",
        "    statements1\n",
        "    if 조건: \n",
        "        if_statements\n",
        "        break\n",
        "    statements2\n",
        "else: \n",
        "    else_statements\n",
        "next_statements\n",
        "```\n",
        "\n"
      ]
    },
    {
      "cell_type": "code",
      "metadata": {
        "id": "2QOe_jn_b8pz"
      },
      "source": [
        "a = ['딸기', '바나나', '피자', '모자','컴퓨터']\n",
        "\n",
        "word =input('Input: ')\n",
        "\n",
        "for i in a:\n",
        "    if i == word:\n",
        "        print(f'{word}가 검색되었습니다.')\n",
        "        break\n",
        "else:\n",
        "    print(f'{word}는 검색되지 않았습니다.')\n",
        "print('END')"
      ],
      "execution_count": null,
      "outputs": []
    },
    {
      "cell_type": "markdown",
      "source": [
        "## 보너스 실습문제에서 사용될 Dragon 이미지\n"
      ],
      "metadata": {
        "id": "QJ_Q6uBsjK7r"
      }
    },
    {
      "cell_type": "code",
      "source": [
        "# 텍스트로 그린 그림을 아스키아트라고 합니다.\n",
        "print('Gives you his treasure!')\n",
        "print('''\n",
        "                    __/>^^^;:,'\n",
        "    .    \\'    ,      /-.       :,/|/|'\n",
        "    _______     __/ ^         :,/ \\__'\n",
        "_ ./_|___|_\\. _(~             ;/ /  /'\n",
        "    \\ \\   / /    `-\\'--._       / / ,<  ___'\n",
        "    \\ \\' \\' /   ,__.   /=\\     /  _/  >|_\\'.'\n",
        "        \\ \" /     `_ `--------\\'    __ / \\',\\ \\\\'\n",
        "        \\./   ,_// ,---_____,   ,_  \\_  ,| |'\n",
        "        V     `--\\' |=|           \\._/ ,/  |'\n",
        "                    \\=\\            `,,/   |'\n",
        "                    \\=\\            ||    /'\n",
        "                        \\=\\____       |\\    \\\\'\n",
        "                        / \\/    `     <__)    \\\\'\n",
        "                        | |                    |'\n",
        "                    ,__\\,\\                   /'\n",
        "                    ,--____>    /\\.         ./'\n",
        "                    \\'-__________>  \\.______/'\n",
        "''')"
      ],
      "metadata": {
        "id": "0L7cySSIjRAp"
      },
      "execution_count": null,
      "outputs": []
    },
    {
      "cell_type": "code",
      "source": [
        "print('Gobbles you down in one bite!')\n",
        "print('''\n",
        "        (  )   /\\   _                 (    ' \n",
        "        \\ |  (  \\ ( \\.(               )                      _____'\n",
        "        \\  \\ \\  `  `   ) \\             (  ___                 / _   \\\\'\n",
        "        (_`    \\+   . x  ( .\\            \\/   \\____-----------/ (o)   \\_'\n",
        "    - .-               \\+  ;          (  O                           \\____'\n",
        "                                )        \\_____________  `              \\  /'\n",
        "    (__                +- .( -\\'.- <. - _  VVVVVVV VV V\\                 \\/'\n",
        "    (_____            ._._: <_ - <- _  (--  _AAAAAAA__A_/                  |'\n",
        "        .    /./.+-  . .- /  +--  - .     \\______________//_              \\_______'\n",
        "        (__ \\' /x  / x _/ (                                  \\___\\'          \\     /'\n",
        "        , x / ( \\'  . / .  /                                      |           \\   /'\n",
        "        /  /  _/ /    +                                      /              \\/'\n",
        "        \\'  (__/                                             /                  \\\\'\n",
        "    ''')"
      ],
      "metadata": {
        "id": "co0gEdFjjhhX"
      },
      "execution_count": null,
      "outputs": []
    },
    {
      "cell_type": "code",
      "source": [
        "# You are in a land full of dragons.\n",
        "# In front of you, you see two caves. \n",
        "# In one cave, the dragon is friendly, and will share his treasure with you.\n",
        "# The other dragon is greedy and hungry, and will eat you on sight.\n",
        "\n",
        "# Which cave will you go into? (1 or  2) 1\n",
        "\n",
        "# You chose number 1.\n",
        "\n",
        "# You approach the cave…\n",
        "# It is dark and spooky...\n",
        "# A large dragon jumps out in front of you!\n",
        "# He opens his jaws and...\n",
        "\n",
        "# cave와 computer의 random number가 동일하면 treasure dragon, 다르면 fire dragon을 보여준다.\n",
        "\n",
        "# Do you want to play again?(yes or no) "
      ],
      "metadata": {
        "id": "Fyl5fm9RjzZC"
      },
      "execution_count": null,
      "outputs": []
    },
    {
      "cell_type": "code",
      "source": [],
      "metadata": {
        "id": "2Yc-yj5QMPDk"
      },
      "execution_count": null,
      "outputs": []
    }
  ]
}